{
 "cells": [
  {
   "cell_type": "code",
   "execution_count": 17,
   "metadata": {},
   "outputs": [],
   "source": [
    "import requests\n",
    "import imageio.v3 as iio\n",
    "import pickle\n",
    "from sys import getsizeof\n",
    "import numpy as np\n",
    "from utils import preprocessing, uniform_sampling\n",
    "import json\n",
    "import cv2\n",
    "import base64\n",
    "from dask import delayed, compute"
   ]
  },
  {
   "cell_type": "code",
   "execution_count": 16,
   "metadata": {},
   "outputs": [],
   "source": [
    "def resize_sequence(queue):\n",
    "    batch = []\n",
    "    for i in range(len(queue)):\n",
    "        batch.append(delayed(cv2.resize)(queue[i], (224, 224)))\n",
    "    \n",
    "    return compute(*batch)"
   ]
  },
  {
   "cell_type": "code",
   "execution_count": 46,
   "metadata": {},
   "outputs": [
    {
     "name": "stdout",
     "output_type": "stream",
     "text": [
      "(64, 224, 224, 3)\n",
      "38535367\n"
     ]
    }
   ],
   "source": [
    "video_path = '/home/pep/Drive/PCLOUD/Projects/Best-Frame-Selection/0H2s9UJcNJ0_4_pdf.avi'\n",
    "\n",
    "frames = iio.imread(video_path, extension='.avi')\n",
    "\n",
    "# frames = np.load(video_path)['data']\n",
    "\n",
    "# frames = uniform_sampling(frames)\n",
    "\n",
    "# frames = preprocessing(frames.copy(), dynamic_crop=False).astype(np.float32)\n",
    "\n",
    "frames_resize = np.stack(resize_sequence(frames)).astype(np.float32)\n",
    "\n",
    "print(frames_resize.shape)\n",
    "\n",
    "# arr = base64.b64encode(f.astype(np.float32).tobytes()).decode('utf-8')\n",
    "\n",
    "arr = pickle.dumps(frames_resize)\n",
    "\n",
    "print(getsizeof(arr))\n",
    "\n",
    "url = ' http://54.179.5.58:80/predictions/fgn'"
   ]
  },
  {
   "cell_type": "code",
   "execution_count": null,
   "metadata": {},
   "outputs": [],
   "source": [
    "response = requests.post(\n",
    "    url=url,\n",
    "    data=arr)"
   ]
  },
  {
   "cell_type": "code",
   "execution_count": 11,
   "metadata": {},
   "outputs": [
    {
     "data": {
      "text/plain": [
       "b'{\\n  \"Fight\": \"0.98\",\\n  \"NonFight\": \"0.02\"\\n}'"
      ]
     },
     "execution_count": 11,
     "metadata": {},
     "output_type": "execute_result"
    }
   ],
   "source": [
    "response.content"
   ]
  },
  {
   "cell_type": "code",
   "execution_count": 48,
   "metadata": {},
   "outputs": [
    {
     "data": {
      "text/plain": [
       "{'code': 507, 'type': 'InternalServerException', 'message': 'Worker died.'}"
      ]
     },
     "execution_count": 48,
     "metadata": {},
     "output_type": "execute_result"
    }
   ],
   "source": [
    "predict = json.loads(response.content.decode('utf-8'))\n",
    "predict"
   ]
  },
  {
   "cell_type": "code",
   "execution_count": 10,
   "metadata": {},
   "outputs": [],
   "source": [
    "import cv2\n",
    "from collections import deque\n",
    "import asyncio\n",
    "import logging\n",
    "from dask import delayed, compute"
   ]
  },
  {
   "cell_type": "code",
   "execution_count": 11,
   "metadata": {},
   "outputs": [],
   "source": [
    "def resize_sequence(queue):\n",
    "    batch = []\n",
    "    for i in range(len(queue)):\n",
    "        batch.append(delayed(cv2.resize)(queue[i], (224, 224)))\n",
    "    \n",
    "    return compute(*batch)"
   ]
  },
  {
   "cell_type": "code",
   "execution_count": 13,
   "metadata": {},
   "outputs": [],
   "source": [
    "num_sequence = 64\n",
    "url = 'http://localhost:8080/predictions/fgn'\n",
    "queue = deque(maxlen=65)\n",
    "cap = cv2.VideoCapture(0)\n",
    "\n",
    "while True:\n",
    "    ret, frame = cap.read()\n",
    "    if not ret: break\n",
    "\n",
    "    if len(queue) <= 0:\n",
    "        for _ in range(num_sequence):\n",
    "            queue.append(frame)\n",
    "    \n",
    "    queue.pop()\n",
    "    queue.append(frame)\n",
    "    \n",
    "    send_queue = resize_sequence(queue)\n",
    "    \n",
    "    frames = np.stack(send_queue).astype(np.float32)\n",
    "    \n",
    "    data = pickle.dumps(frames)\n",
    "    \n",
    "    response = requests.post(url, data)\n",
    "\n",
    "    result = json.loads(response.content.decode('utf-8'))\n",
    "    \n",
    "    class_pred = max(result, key=result.get)\n",
    "    \n",
    "    show_frame = queue[-1].copy()\n",
    "    \n",
    "    show_frame = cv2.putText(show_frame, class_pred, (10, 30), cv2.FONT_HERSHEY_SIMPLEX, 1, (255, 0, 0), 2)\n",
    "    cv2.imshow('Frame', show_frame)\n",
    "    \n",
    "    if cv2.waitKey(1) == 27: break\n",
    "\n",
    "cap.release()\n",
    "cv2.destroyAllWindows()"
   ]
  },
  {
   "cell_type": "code",
   "execution_count": 5,
   "metadata": {},
   "outputs": [],
   "source": [
    "cap.release()\n",
    "cv2.destroyAllWindows()"
   ]
  },
  {
   "cell_type": "code",
   "execution_count": null,
   "metadata": {},
   "outputs": [],
   "source": []
  }
 ],
 "metadata": {
  "kernelspec": {
   "display_name": "Python 3.9.12 ('base')",
   "language": "python",
   "name": "python3"
  },
  "language_info": {
   "codemirror_mode": {
    "name": "ipython",
    "version": 3
   },
   "file_extension": ".py",
   "mimetype": "text/x-python",
   "name": "python",
   "nbconvert_exporter": "python",
   "pygments_lexer": "ipython3",
   "version": "3.9.12"
  },
  "orig_nbformat": 4,
  "vscode": {
   "interpreter": {
    "hash": "3996059cd6e119e80161f80bcd32556e3f931a44ad1548f36725eabf1f2b533a"
   }
  }
 },
 "nbformat": 4,
 "nbformat_minor": 2
}
