{
 "cells": [
  {
   "cell_type": "code",
   "execution_count": 13,
   "metadata": {},
   "outputs": [],
   "source": [
    "from copy import deepcopy\n",
    "import cv2\n",
    "import numpy as np\n",
    "from model import TrainingModel\n",
    "from utils import preprocessing\n",
    "import torch\n",
    "from torchvision import transforms\n",
    "from Dataset.augmentation import Normalize, ToTensor\n",
    "import argparse\n",
    "from collections import deque\n",
    "import imageio.v3 as iio"
   ]
  },
  {
   "cell_type": "code",
   "execution_count": 14,
   "metadata": {},
   "outputs": [
    {
     "data": {
      "text/plain": [
       "(64, 720, 1280, 3)"
      ]
     },
     "execution_count": 14,
     "metadata": {},
     "output_type": "execute_result"
    }
   ],
   "source": [
    "tfms = transforms.Compose([\n",
    "                    Normalize(),\n",
    "                    ToTensor()])\n",
    "\n",
    "classnames = ['Fight', 'NonFight']\n",
    "\n",
    "queue = deque(maxlen=64)\n",
    "\n",
    "device = torch.device('cuda' if torch.cuda.is_available() else 'cpu')\n",
    "\n",
    "model = TrainingModel().load_from_checkpoint('model_dir/model-3.ckpt').to(device)\n",
    "\n",
    "path = '/home/pep/Drive/PCLOUD/Projects/Best-Frame-Selection/0H2s9UJcNJ0_4_pdf.avi'\n",
    "\n",
    "frames = iio.imread(path, extension='.avi')\n",
    "\n",
    "frames.shape"
   ]
  },
  {
   "cell_type": "code",
   "execution_count": 5,
   "metadata": {},
   "outputs": [
    {
     "data": {
      "text/plain": [
       "(64, 224, 224, 5)"
      ]
     },
     "execution_count": 5,
     "metadata": {},
     "output_type": "execute_result"
    }
   ],
   "source": [
    "data = preprocessing(frames.copy(), dynamic_crop=False)\n",
    "data.shape"
   ]
  },
  {
   "cell_type": "code",
   "execution_count": 8,
   "metadata": {},
   "outputs": [
    {
     "name": "stderr",
     "output_type": "stream",
     "text": [
      "/tmp/ipykernel_12354/2735631180.py:3: UserWarning: To copy construct from a tensor, it is recommended to use sourceTensor.clone().detach() or sourceTensor.clone().detach().requires_grad_(True), rather than torch.tensor(sourceTensor).\n",
      "  inp = torch.tensor(inp[None]).permute(0, -1, 1, 2, 3).float()\n"
     ]
    },
    {
     "data": {
      "text/plain": [
       "torch.Size([1, 5, 64, 224, 224])"
      ]
     },
     "execution_count": 8,
     "metadata": {},
     "output_type": "execute_result"
    }
   ],
   "source": [
    "inp = tfms(data.copy())\n",
    "\n",
    "inp = torch.tensor(inp[None]).permute(0, -1, 1, 2, 3).float()\n",
    "inp.shape"
   ]
  },
  {
   "cell_type": "code",
   "execution_count": 15,
   "metadata": {},
   "outputs": [
    {
     "ename": "ValueError",
     "evalue": "not enough values to unpack (expected 2, got 1)",
     "output_type": "error",
     "traceback": [
      "\u001b[0;31m---------------------------------------------------------------------------\u001b[0m",
      "\u001b[0;31mValueError\u001b[0m                                Traceback (most recent call last)",
      "Cell \u001b[0;32mIn[15], line 2\u001b[0m\n\u001b[1;32m      1\u001b[0m model\u001b[39m.\u001b[39meval()\n\u001b[0;32m----> 2\u001b[0m out, loc \u001b[39m=\u001b[39m model(inp)\n\u001b[1;32m      3\u001b[0m out \u001b[39m=\u001b[39m out\u001b[39m.\u001b[39msoftmax(\u001b[39m-\u001b[39m\u001b[39m1\u001b[39m)\n\u001b[1;32m      4\u001b[0m out, loc\u001b[39m.\u001b[39mshape\n",
      "\u001b[0;31mValueError\u001b[0m: not enough values to unpack (expected 2, got 1)"
     ]
    }
   ],
   "source": [
    "model.eval()\n",
    "out, loc = model(inp)\n",
    "out = out.softmax(-1)\n",
    "out, loc.shape"
   ]
  },
  {
   "cell_type": "code",
   "execution_count": null,
   "metadata": {},
   "outputs": [],
   "source": []
  },
  {
   "cell_type": "code",
   "execution_count": null,
   "metadata": {},
   "outputs": [],
   "source": []
  }
 ],
 "metadata": {
  "kernelspec": {
   "display_name": "Python 3.9.12 ('base')",
   "language": "python",
   "name": "python3"
  },
  "language_info": {
   "codemirror_mode": {
    "name": "ipython",
    "version": 3
   },
   "file_extension": ".py",
   "mimetype": "text/x-python",
   "name": "python",
   "nbconvert_exporter": "python",
   "pygments_lexer": "ipython3",
   "version": "3.9.12"
  },
  "orig_nbformat": 4,
  "vscode": {
   "interpreter": {
    "hash": "3996059cd6e119e80161f80bcd32556e3f931a44ad1548f36725eabf1f2b533a"
   }
  }
 },
 "nbformat": 4,
 "nbformat_minor": 2
}
