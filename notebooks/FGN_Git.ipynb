{
  "nbformat": 4,
  "nbformat_minor": 0,
  "metadata": {
    "colab": {
      "provenance": [],
      "gpuType": "T4",
      "collapsed_sections": [
        "WCRCVjO2Q8sT",
        "Pnfa5K5ARD6O",
        "lNHXCCGHRJQ9"
      ]
    },
    "kernelspec": {
      "name": "python3",
      "display_name": "Python 3"
    },
    "language_info": {
      "name": "python"
    },
    "accelerator": "GPU"
  },
  "cells": [
    {
      "cell_type": "markdown",
      "source": [
        "## Clone repository"
      ],
      "metadata": {
        "id": "cW10geHfPHVm"
      }
    },
    {
      "cell_type": "code",
      "execution_count": 1,
      "metadata": {
        "colab": {
          "base_uri": "https://localhost:8080/"
        },
        "id": "j46-gWbSq5rd",
        "outputId": "52547ac0-9967-4e0b-ec2f-6f40191a4bbc"
      },
      "outputs": [
        {
          "output_type": "stream",
          "name": "stdout",
          "text": [
            "Cloning into 'RWF2000-pytorch-version'...\n",
            "remote: Enumerating objects: 1679, done.\u001b[K\n",
            "remote: Counting objects: 100% (44/44), done.\u001b[K\n",
            "remote: Compressing objects: 100% (36/36), done.\u001b[K\n",
            "remote: Total 1679 (delta 11), reused 30 (delta 7), pack-reused 1635\u001b[K\n",
            "Receiving objects: 100% (1679/1679), 37.37 MiB | 36.97 MiB/s, done.\n",
            "Resolving deltas: 100% (410/410), done.\n"
          ]
        }
      ],
      "source": [
        "!git clone https://github.com/lamnguyenvu98/RWF2000-pytorch-version.git"
      ]
    },
    {
      "cell_type": "markdown",
      "source": [
        "## Mount training data\n",
        "\n",
        "Dataset Structure:\n",
        "\n",
        "```\n",
        "RWF2000-Small-Build (root)\n",
        "    ├── train\n",
        "    |    ├── Fight\n",
        "    |    |     ├── data1.npz\n",
        "    |    |     ├── data2.npz\n",
        "    |    |     └── ...\n",
        "    |    └── NonFight\n",
        "    |          ├── data1.npz\n",
        "    |          ├── data2.npz\n",
        "    |          └── ...\n",
        "    |\n",
        "    └── val\n",
        "         ├── Fight\n",
        "         |     ├── data1.npz\n",
        "         |     ├── data2.npz\n",
        "         |     └── ...\n",
        "         └── NonFight\n",
        "               ├── data1.npz\n",
        "               ├── data2.npz\n",
        "               └── ...\n",
        "```"
      ],
      "metadata": {
        "id": "w6ckzZiGPKZ3"
      }
    },
    {
      "cell_type": "code",
      "source": [
        "!python /content/drive/MyDrive/mount_cloud.py pcloud --local /content/pcloud"
      ],
      "metadata": {
        "id": "e-LBDCInrkDy"
      },
      "execution_count": null,
      "outputs": []
    },
    {
      "cell_type": "code",
      "source": [
        "%%capture\n",
        "!unzip /content/pcloud/Datasets/ZipDataset/RWF2000-Small-Build.zip -d /content"
      ],
      "metadata": {
        "id": "alW6EZLIsO-c"
      },
      "execution_count": 11,
      "outputs": []
    },
    {
      "cell_type": "markdown",
      "source": [
        "## Create log and checkpoint directory"
      ],
      "metadata": {
        "id": "WCRCVjO2Q8sT"
      }
    },
    {
      "cell_type": "code",
      "source": [
        "!mkdir -p /content/log_folder\n",
        "!mkdir -p /content/log_folder/checkpoints"
      ],
      "metadata": {
        "id": "txWb13P_sobG"
      },
      "execution_count": 4,
      "outputs": []
    },
    {
      "cell_type": "markdown",
      "source": [
        "## Create yaml file"
      ],
      "metadata": {
        "id": "ZHdzDe2dRAqL"
      }
    },
    {
      "cell_type": "code",
      "source": [
        "%%writefile /content/rwf2000.yaml\n",
        "TRAIN:\n",
        "  BATCH_SIZE: 8\n",
        "  NUM_FRAMES: 64\n",
        "  ACCUMULATE_BATCH: 1\n",
        "  EPOCHS: 30\n",
        "  LEARNING_RATE: 1.0e-2\n",
        "  MOMENTUM: 9.0e-1\n",
        "  WEIGHT_DECAY: 1.0e-6\n",
        "SCHEDULER:\n",
        "  STEP_SIZE: 3\n",
        "  GAMMA: 7.0e-1\n",
        "VALIDATION:\n",
        "  SAVE_LAST: True\n",
        "  TOP_K: 3\n",
        "SETTINGS:\n",
        "  ACCELERATOR: \"gpu\"\n",
        "  DEVICES: 1\n",
        "  PRECISION: 16-mixed\n",
        "  RESUME: False\n",
        "NEPTUNE_LOGGER:\n",
        "  API_TOKEN:\n",
        "  PROJECT:\n",
        "  WITH_ID:\n",
        "  TAGS:\n",
        "DIR:\n",
        "  RESUME_CHECKPOINT: '/content/log_folder/checkpoints/last.ckpt'\n",
        "  CHECKPOINT_DIR: '/content/log_folder/checkpoints/'\n",
        "  DATA_DIR: '/content/RWF2000-Small-Build'\n",
        "  LOG_DIR: '/content/log_folder'"
      ],
      "metadata": {
        "colab": {
          "base_uri": "https://localhost:8080/"
        },
        "id": "HtCFLLwtsVUz",
        "outputId": "634bc7c3-71b1-4207-f92a-6f7d841e79f8"
      },
      "execution_count": 14,
      "outputs": [
        {
          "output_type": "stream",
          "name": "stdout",
          "text": [
            "Overwriting /content/rwf2000.yaml\n"
          ]
        }
      ]
    },
    {
      "cell_type": "markdown",
      "source": [
        "## Install missing packages on Colab"
      ],
      "metadata": {
        "id": "Pnfa5K5ARD6O"
      }
    },
    {
      "cell_type": "code",
      "source": [
        "!pip install lightning --quiet\n",
        "!pip install torchmetrics --quiet\n",
        "!pip install neptune --quiet\n",
        "!pip install dotmap --quiet\n",
        "!pip install \"ray[serve]\" --quiet"
      ],
      "metadata": {
        "id": "TUIj6xAZ0KVy",
        "colab": {
          "base_uri": "https://localhost:8080/"
        },
        "outputId": "6cf5cdf9-2621-4f44-defe-9302912c3eac"
      },
      "execution_count": 6,
      "outputs": [
        {
          "output_type": "stream",
          "name": "stdout",
          "text": [
            "\u001b[2K     \u001b[90m━━━━━━━━━━━━━━━━━━━━━━━━━━━━━━━━━━━━━━━━\u001b[0m \u001b[32m1.9/1.9 MB\u001b[0m \u001b[31m19.3 MB/s\u001b[0m eta \u001b[36m0:00:00\u001b[0m\n",
            "\u001b[2K     \u001b[90m━━━━━━━━━━━━━━━━━━━━━━━━━━━━━━━━━━━━━━━━\u001b[0m \u001b[32m66.4/66.4 kB\u001b[0m \u001b[31m7.3 MB/s\u001b[0m eta \u001b[36m0:00:00\u001b[0m\n",
            "\u001b[2K     \u001b[90m━━━━━━━━━━━━━━━━━━━━━━━━━━━━━━━━━━━━━━━━\u001b[0m \u001b[32m70.7/70.7 kB\u001b[0m \u001b[31m8.1 MB/s\u001b[0m eta \u001b[36m0:00:00\u001b[0m\n",
            "\u001b[2K     \u001b[90m━━━━━━━━━━━━━━━━━━━━━━━━━━━━━━━━━━━━━━━━\u001b[0m \u001b[32m65.7/65.7 kB\u001b[0m \u001b[31m7.2 MB/s\u001b[0m eta \u001b[36m0:00:00\u001b[0m\n",
            "\u001b[2K     \u001b[90m━━━━━━━━━━━━━━━━━━━━━━━━━━━━━━━━━━━━━━\u001b[0m \u001b[32m596.7/596.7 kB\u001b[0m \u001b[31m46.7 MB/s\u001b[0m eta \u001b[36m0:00:00\u001b[0m\n",
            "\u001b[2K     \u001b[90m━━━━━━━━━━━━━━━━━━━━━━━━━━━━━━━━━━━━━━━━\u001b[0m \u001b[32m45.7/45.7 kB\u001b[0m \u001b[31m4.6 MB/s\u001b[0m eta \u001b[36m0:00:00\u001b[0m\n",
            "\u001b[2K     \u001b[90m━━━━━━━━━━━━━━━━━━━━━━━━━━━━━━━━━━━━━━━━\u001b[0m \u001b[32m68.8/68.8 kB\u001b[0m \u001b[31m8.4 MB/s\u001b[0m eta \u001b[36m0:00:00\u001b[0m\n",
            "\u001b[2K     \u001b[90m━━━━━━━━━━━━━━━━━━━━━━━━━━━━━━━━━━━━━━\u001b[0m \u001b[32m729.2/729.2 kB\u001b[0m \u001b[31m51.1 MB/s\u001b[0m eta \u001b[36m0:00:00\u001b[0m\n",
            "\u001b[2K     \u001b[90m━━━━━━━━━━━━━━━━━━━━━━━━━━━━━━━━━━━━━━━━\u001b[0m \u001b[32m59.5/59.5 kB\u001b[0m \u001b[31m6.3 MB/s\u001b[0m eta \u001b[36m0:00:00\u001b[0m\n",
            "\u001b[2K     \u001b[90m━━━━━━━━━━━━━━━━━━━━━━━━━━━━━━━━━━━━━━\u001b[0m \u001b[32m129.9/129.9 kB\u001b[0m \u001b[31m15.4 MB/s\u001b[0m eta \u001b[36m0:00:00\u001b[0m\n",
            "\u001b[2K     \u001b[90m━━━━━━━━━━━━━━━━━━━━━━━━━━━━━━━━━━━━━━\u001b[0m \u001b[32m722.4/722.4 kB\u001b[0m \u001b[31m54.5 MB/s\u001b[0m eta \u001b[36m0:00:00\u001b[0m\n",
            "\u001b[2K     \u001b[90m━━━━━━━━━━━━━━━━━━━━━━━━━━━━━━━━━━━━━━━━\u001b[0m \u001b[32m67.0/67.0 kB\u001b[0m \u001b[31m7.5 MB/s\u001b[0m eta \u001b[36m0:00:00\u001b[0m\n",
            "\u001b[2K     \u001b[90m━━━━━━━━━━━━━━━━━━━━━━━━━━━━━━━━━━━━━━━━\u001b[0m \u001b[32m58.4/58.4 kB\u001b[0m \u001b[31m7.0 MB/s\u001b[0m eta \u001b[36m0:00:00\u001b[0m\n",
            "\u001b[2K     \u001b[90m━━━━━━━━━━━━━━━━━━━━━━━━━━━━━━━━━━━━━━━━\u001b[0m \u001b[32m58.3/58.3 kB\u001b[0m \u001b[31m7.0 MB/s\u001b[0m eta \u001b[36m0:00:00\u001b[0m\n",
            "\u001b[2K     \u001b[90m━━━━━━━━━━━━━━━━━━━━━━━━━━━━━━━━━━━━━━━\u001b[0m \u001b[32m455.3/455.3 kB\u001b[0m \u001b[31m4.8 MB/s\u001b[0m eta \u001b[36m0:00:00\u001b[0m\n",
            "\u001b[2K     \u001b[90m━━━━━━━━━━━━━━━━━━━━━━━━━━━━━━━━━━━━━━━\u001b[0m \u001b[32m188.5/188.5 kB\u001b[0m \u001b[31m7.2 MB/s\u001b[0m eta \u001b[36m0:00:00\u001b[0m\n",
            "\u001b[2K     \u001b[90m━━━━━━━━━━━━━━━━━━━━━━━━━━━━━━━━━━━━━━━\u001b[0m \u001b[32m135.7/135.7 kB\u001b[0m \u001b[31m6.0 MB/s\u001b[0m eta \u001b[36m0:00:00\u001b[0m\n",
            "\u001b[2K     \u001b[90m━━━━━━━━━━━━━━━━━━━━━━━━━━━━━━━━━━━━━━━━\u001b[0m \u001b[32m11.0/11.0 MB\u001b[0m \u001b[31m23.1 MB/s\u001b[0m eta \u001b[36m0:00:00\u001b[0m\n",
            "\u001b[2K     \u001b[90m━━━━━━━━━━━━━━━━━━━━━━━━━━━━━━━━━━━━━━━━\u001b[0m \u001b[32m79.8/79.8 kB\u001b[0m \u001b[31m8.3 MB/s\u001b[0m eta \u001b[36m0:00:00\u001b[0m\n",
            "\u001b[2K     \u001b[90m━━━━━━━━━━━━━━━━━━━━━━━━━━━━━━━━━━━━━━━━\u001b[0m \u001b[32m67.7/67.7 kB\u001b[0m \u001b[31m7.5 MB/s\u001b[0m eta \u001b[36m0:00:00\u001b[0m\n",
            "\u001b[2K     \u001b[90m━━━━━━━━━━━━━━━━━━━━━━━━━━━━━━━━━━━━━━\u001b[0m \u001b[32m137.9/137.9 kB\u001b[0m \u001b[31m13.0 MB/s\u001b[0m eta \u001b[36m0:00:00\u001b[0m\n",
            "\u001b[2K     \u001b[90m━━━━━━━━━━━━━━━━━━━━━━━━━━━━━━━━━━━━━━━━\u001b[0m \u001b[32m62.7/62.7 kB\u001b[0m \u001b[31m6.5 MB/s\u001b[0m eta \u001b[36m0:00:00\u001b[0m\n",
            "\u001b[2K     \u001b[90m━━━━━━━━━━━━━━━━━━━━━━━━━━━━━━━━━━━━━━━━\u001b[0m \u001b[32m56.9/56.9 MB\u001b[0m \u001b[31m10.8 MB/s\u001b[0m eta \u001b[36m0:00:00\u001b[0m\n",
            "\u001b[2K     \u001b[90m━━━━━━━━━━━━━━━━━━━━━━━━━━━━━━━━━━━━━━━━\u001b[0m \u001b[32m8.7/8.7 MB\u001b[0m \u001b[31m72.7 MB/s\u001b[0m eta \u001b[36m0:00:00\u001b[0m\n",
            "\u001b[2K     \u001b[90m━━━━━━━━━━━━━━━━━━━━━━━━━━━━━━━━━━━━━━\u001b[0m \u001b[32m128.2/128.2 kB\u001b[0m \u001b[31m13.0 MB/s\u001b[0m eta \u001b[36m0:00:00\u001b[0m\n",
            "\u001b[2K     \u001b[90m━━━━━━━━━━━━━━━━━━━━━━━━━━━━━━━━━━━━━━━━\u001b[0m \u001b[32m3.0/3.0 MB\u001b[0m \u001b[31m54.7 MB/s\u001b[0m eta \u001b[36m0:00:00\u001b[0m\n",
            "\u001b[2K     \u001b[90m━━━━━━━━━━━━━━━━━━━━━━━━━━━━━━━━━━━━━━\u001b[0m \u001b[32m201.4/201.4 kB\u001b[0m \u001b[31m19.8 MB/s\u001b[0m eta \u001b[36m0:00:00\u001b[0m\n",
            "\u001b[2K     \u001b[90m━━━━━━━━━━━━━━━━━━━━━━━━━━━━━━━━━━━━━━━━\u001b[0m \u001b[32m97.9/97.9 kB\u001b[0m \u001b[31m10.3 MB/s\u001b[0m eta \u001b[36m0:00:00\u001b[0m\n",
            "\u001b[?25h  Installing build dependencies ... \u001b[?25l\u001b[?25hdone\n",
            "  Getting requirements to build wheel ... \u001b[?25l\u001b[?25hdone\n",
            "  Preparing metadata (pyproject.toml) ... \u001b[?25l\u001b[?25hdone\n",
            "\u001b[2K     \u001b[90m━━━━━━━━━━━━━━━━━━━━━━━━━━━━━━━━━━━━━━\u001b[0m \u001b[32m468.9/468.9 kB\u001b[0m \u001b[31m28.7 MB/s\u001b[0m eta \u001b[36m0:00:00\u001b[0m\n",
            "\u001b[?25h  Building wheel for gpustat (pyproject.toml) ... \u001b[?25l\u001b[?25hdone\n"
          ]
        }
      ]
    },
    {
      "cell_type": "markdown",
      "source": [
        "## Change dir to repo"
      ],
      "metadata": {
        "id": "lNHXCCGHRJQ9"
      }
    },
    {
      "cell_type": "code",
      "source": [
        "%cd /content/RWF2000-pytorch-version"
      ],
      "metadata": {
        "colab": {
          "base_uri": "https://localhost:8080/"
        },
        "id": "FMiKGvHztXd9",
        "outputId": "08e21a88-0739-4ad5-b5dd-5abd051e3ccb"
      },
      "execution_count": 7,
      "outputs": [
        {
          "output_type": "stream",
          "name": "stdout",
          "text": [
            "/content/RWF2000-pytorch-version\n"
          ]
        }
      ]
    },
    {
      "cell_type": "markdown",
      "source": [
        "## Create pyproject.toml for Colab\n",
        "\n",
        "This file only for colab, remove installing dependencies step since Colab already has most of them."
      ],
      "metadata": {
        "id": "2I_rzVX3RLge"
      }
    },
    {
      "cell_type": "code",
      "source": [
        "%%writefile /content/RWF2000-pytorch-version/pyproject.toml\n",
        "[build-system]\n",
        "requires = [\"setuptools>=61.0\", \"setuptools-scm\"]\n",
        "build-backend = \"setuptools.build_meta\"\n",
        "\n",
        "[project]\n",
        "name = \"FlowGatedNetwork\"\n",
        "version = \"1.0.0\"\n",
        "authors = [\n",
        "    {name = \"Vu Lam Nguyen\", email = \"lamnguyenvu98@gmail.com\"},\n",
        "]\n",
        "description = \"Unofficial Implementation of Flow Gated Network. This network was trained on RWF2000 dataset\"\n",
        "requires-python = \"==3.10.*\"\n",
        "\n",
        "[tool.setuptools]\n",
        "packages=[\"src\"]\n",
        "include-package-data=true\n",
        "\n",
        "[project.scripts]\n",
        "export-jit = \"src.export_jit:main\""
      ],
      "metadata": {
        "colab": {
          "base_uri": "https://localhost:8080/"
        },
        "id": "Cx6LJzXj0-6e",
        "outputId": "64c7612b-6e58-458d-8315-c2c0daade2fc"
      },
      "execution_count": 8,
      "outputs": [
        {
          "output_type": "stream",
          "name": "stdout",
          "text": [
            "Overwriting /content/RWF2000-pytorch-version/pyproject.toml\n"
          ]
        }
      ]
    },
    {
      "cell_type": "markdown",
      "source": [
        "## Install packages"
      ],
      "metadata": {
        "id": "ufyI5ZLkRaKx"
      }
    },
    {
      "cell_type": "code",
      "source": [
        "!python -m pip install -e ."
      ],
      "metadata": {
        "id": "DKrSkNpMtVP6"
      },
      "execution_count": null,
      "outputs": []
    },
    {
      "cell_type": "markdown",
      "source": [
        "## Train model"
      ],
      "metadata": {
        "id": "L688nCaNRekS"
      }
    },
    {
      "cell_type": "code",
      "source": [
        "!python examples/train.py --config /content/rwf2000.yaml"
      ],
      "metadata": {
        "id": "hV7hqOnltLZ3"
      },
      "execution_count": null,
      "outputs": []
    }
  ]
}