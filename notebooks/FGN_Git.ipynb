{
  "nbformat": 4,
  "nbformat_minor": 0,
  "metadata": {
    "colab": {
      "provenance": [],
      "gpuType": "T4"
    },
    "kernelspec": {
      "name": "python3",
      "display_name": "Python 3"
    },
    "language_info": {
      "name": "python"
    },
    "accelerator": "GPU"
  },
  "cells": [
    {
      "cell_type": "markdown",
      "source": [
        "## Clone repository"
      ],
      "metadata": {
        "id": "cW10geHfPHVm"
      }
    },
    {
      "cell_type": "code",
      "execution_count": null,
      "metadata": {
        "colab": {
          "base_uri": "https://localhost:8080/"
        },
        "id": "j46-gWbSq5rd",
        "outputId": "741b2d9e-0841-4c52-d6d3-5adde7c36faa"
      },
      "outputs": [
        {
          "output_type": "stream",
          "name": "stdout",
          "text": [
            "Cloning into 'RWF2000-pytorch-version'...\n",
            "remote: Enumerating objects: 1605, done.\u001b[K\n",
            "remote: Counting objects: 100% (1408/1408), done.\u001b[K\n",
            "remote: Compressing objects: 100% (1065/1065), done.\u001b[K\n",
            "remote: Total 1605 (delta 248), reused 1384 (delta 232), pack-reused 197\u001b[K\n",
            "Receiving objects: 100% (1605/1605), 36.38 MiB | 14.90 MiB/s, done.\n",
            "Resolving deltas: 100% (368/368), done.\n"
          ]
        }
      ],
      "source": [
        "!git clone https://github.com/lamnguyenvu98/RWF2000-pytorch-version.git"
      ]
    },
    {
      "cell_type": "markdown",
      "source": [
        "## Mount training data\n",
        "\n",
        "Dataset Structure:\n",
        "\n",
        "```\n",
        "RWF2000-Small-Build (root)\n",
        "    ├── train\n",
        "    |    ├── Fight\n",
        "    |    |     ├── data1.npz\n",
        "    |    |     ├── data2.npz\n",
        "    |    |     └── ...\n",
        "    |    └── NonFight\n",
        "    |          ├── data1.npz\n",
        "    |          ├── data2.npz\n",
        "    |          └── ...\n",
        "    |\n",
        "    └── val\n",
        "         ├── Fight\n",
        "         |     ├── data1.npz\n",
        "         |     ├── data2.npz\n",
        "         |     └── ...\n",
        "         └── NonFight\n",
        "               ├── data1.npz\n",
        "               ├── data2.npz\n",
        "               └── ...\n",
        "```"
      ],
      "metadata": {
        "id": "w6ckzZiGPKZ3"
      }
    },
    {
      "cell_type": "code",
      "source": [
        "!python /content/drive/MyDrive/mount_cloud.py pcloud --local /content/pcloud"
      ],
      "metadata": {
        "id": "e-LBDCInrkDy"
      },
      "execution_count": null,
      "outputs": []
    },
    {
      "cell_type": "code",
      "source": [
        "%%capture\n",
        "!unzip /content/pcloud/Datasets/ZipDataset/RWF2000-Small-Build.zip -d /content"
      ],
      "metadata": {
        "id": "alW6EZLIsO-c"
      },
      "execution_count": null,
      "outputs": []
    },
    {
      "cell_type": "markdown",
      "source": [
        "## Create log and checkpoint directory"
      ],
      "metadata": {
        "id": "WCRCVjO2Q8sT"
      }
    },
    {
      "cell_type": "code",
      "source": [
        "!mkdir -p /content/log_folder\n",
        "!mkdir -p /content/log_folder/checkpoints"
      ],
      "metadata": {
        "id": "txWb13P_sobG"
      },
      "execution_count": null,
      "outputs": []
    },
    {
      "cell_type": "markdown",
      "source": [
        "## Create yaml file"
      ],
      "metadata": {
        "id": "ZHdzDe2dRAqL"
      }
    },
    {
      "cell_type": "code",
      "source": [
        "%%writefile /content/rwf2000.yaml\n",
        "TRAIN:\n",
        "  BATCH_SIZE: 8\n",
        "  NUM_FRAMES: 64\n",
        "  ACCUMULATE_BATCH: 1\n",
        "  EPOCHS: 30\n",
        "  LEARNING_RATE: 1.0e-2\n",
        "  MOMENTUM: 9.0e-1\n",
        "  WEIGHT_DECAY: 1.0e-6\n",
        "SCHEDULER:\n",
        "  STEP_SIZE: 3\n",
        "  GAMMA: 7.0e-1\n",
        "VALIDATION:\n",
        "  SAVE_LAST: True\n",
        "  TOP_K: 3\n",
        "SETTINGS:\n",
        "  ACCELERATOR: \"gpu\"\n",
        "  DEVICES: 1\n",
        "  PRECISION: 16\n",
        "  RESUME: False\n",
        "NEPTUNE_LOGGER:\n",
        "  API_TOKEN:\n",
        "  PROJECT:\n",
        "  WITH_ID:\n",
        "  TAGS:\n",
        "DIR:\n",
        "  RESUME_CHECKPOINT: '/content/log_folder/checkpoints/last.ckpt'\n",
        "  CHECKPOINT_DIR: '/content/log_folder/checkpoints/'\n",
        "  DATA_DIR: '/content/RWF2000-Small-Build'\n",
        "  LOG_DIR: '/content/log_folder'"
      ],
      "metadata": {
        "colab": {
          "base_uri": "https://localhost:8080/"
        },
        "id": "HtCFLLwtsVUz",
        "outputId": "3d75d7d7-1ab6-485a-8444-16ea93a562c2"
      },
      "execution_count": null,
      "outputs": [
        {
          "output_type": "stream",
          "name": "stdout",
          "text": [
            "Overwriting /content/rwf2000.yaml\n"
          ]
        }
      ]
    },
    {
      "cell_type": "markdown",
      "source": [
        "## Install missing packages on Colab"
      ],
      "metadata": {
        "id": "Pnfa5K5ARD6O"
      }
    },
    {
      "cell_type": "code",
      "source": [
        "!pip install lightning --quiet\n",
        "!pip install torchmetrics --quiet\n",
        "!pip install neptune --quiet\n",
        "!pip install dotmap --quiet\n",
        "!pip install \"ray[serve]\" --quiet"
      ],
      "metadata": {
        "id": "TUIj6xAZ0KVy"
      },
      "execution_count": null,
      "outputs": []
    },
    {
      "cell_type": "markdown",
      "source": [
        "## Change dir to repo"
      ],
      "metadata": {
        "id": "lNHXCCGHRJQ9"
      }
    },
    {
      "cell_type": "code",
      "source": [
        "%cd /content/RWF2000-pytorch-version"
      ],
      "metadata": {
        "colab": {
          "base_uri": "https://localhost:8080/"
        },
        "id": "FMiKGvHztXd9",
        "outputId": "95297840-d25d-4581-c11b-08bab2be1be2"
      },
      "execution_count": null,
      "outputs": [
        {
          "output_type": "stream",
          "name": "stdout",
          "text": [
            "/content/RWF2000-pytorch-version\n"
          ]
        }
      ]
    },
    {
      "cell_type": "markdown",
      "source": [
        "## Create pyproject.toml for Colab\n",
        "\n",
        "This file only for colab, remove installing dependencies step since Colab already has most of them."
      ],
      "metadata": {
        "id": "2I_rzVX3RLge"
      }
    },
    {
      "cell_type": "code",
      "source": [
        "%%writefile /content/RWF2000-pytorch-version/pyproject.toml\n",
        "[build-system]\n",
        "requires = [\"setuptools>=61.0\", \"setuptools-scm\"]\n",
        "build-backend = \"setuptools.build_meta\"\n",
        "\n",
        "[project]\n",
        "name = \"rwf2000-pytorch\"\n",
        "version = \"1.0.0\"\n",
        "authors = [\n",
        "    {name = \"Vu Lam Nguyen\", email = \"lamnguyenvu98@gmail.com\"},\n",
        "]\n",
        "description = \"Unofficial Implementation of Flow Gated Network. This network was trained on RWF2000 dataset\"\n",
        "requires-python = \"==3.10.*\"\n",
        "\n",
        "[tool.setuptools.packages.find]\n",
        "where=[\"src\", \"rayserve\"]"
      ],
      "metadata": {
        "colab": {
          "base_uri": "https://localhost:8080/"
        },
        "id": "Cx6LJzXj0-6e",
        "outputId": "fe497299-ffa6-44a5-b2e2-84bf5e257e28"
      },
      "execution_count": null,
      "outputs": [
        {
          "output_type": "stream",
          "name": "stdout",
          "text": [
            "Overwriting /content/RWF2000-pytorch-version/pyproject.toml\n"
          ]
        }
      ]
    },
    {
      "cell_type": "markdown",
      "source": [
        "## Install packages"
      ],
      "metadata": {
        "id": "ufyI5ZLkRaKx"
      }
    },
    {
      "cell_type": "code",
      "source": [
        "!pip install ."
      ],
      "metadata": {
        "id": "DKrSkNpMtVP6"
      },
      "execution_count": null,
      "outputs": []
    },
    {
      "cell_type": "markdown",
      "source": [
        "## Train model"
      ],
      "metadata": {
        "id": "L688nCaNRekS"
      }
    },
    {
      "cell_type": "code",
      "source": [
        "!python train.py --config /content/rwf2000.yaml"
      ],
      "metadata": {
        "id": "hV7hqOnltLZ3"
      },
      "execution_count": null,
      "outputs": []
    }
  ]
}